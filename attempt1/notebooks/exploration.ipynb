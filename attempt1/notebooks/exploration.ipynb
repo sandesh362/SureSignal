{
 "cells": [
  {
   "cell_type": "code",
   "execution_count": null,
   "id": "168b94ef",
   "metadata": {
    "vscode": {
     "languageId": "plaintext"
    }
   },
   "outputs": [],
   "source": [
    "# 🕵️ Misinformation Detection - Exploration Notebook\n",
    "\n",
    "# --- Setup ---\n",
    "import pandas as pd\n",
    "from pymongo import MongoClient\n",
    "import yaml\n",
    "from collections import Counter\n",
    "import matplotlib.pyplot as plt\n",
    "from wordcloud import WordCloud\n",
    "\n",
    "# --- Load Config ---\n",
    "with open(\"../config/config.yaml\", \"r\") as f:\n",
    "    config = yaml.safe_load(f)\n",
    "\n",
    "client = MongoClient(config[\"mongo\"][\"uri\"])\n",
    "db = client[config[\"mongo\"][\"db_name\"]]\n",
    "\n",
    "print(\"✅ MongoDB connected for exploration\")\n",
    "\n",
    "# --- Load Tweets ---\n",
    "tweets = list(db.tweets.find({}, {\"text\": 1, \"cleaned_text\": 1, \"_id\": 0}))\n",
    "df_tweets = pd.DataFrame(tweets)\n",
    "\n",
    "print(f\"Loaded {len(df_tweets)} tweets\")\n",
    "df_tweets.head()\n",
    "\n",
    "# --- Load News ---\n",
    "news = list(db.news.find({}, {\"title\": 1, \"description\": 1, \"cleaned_text\": 1, \"_id\": 0}))\n",
    "df_news = pd.DataFrame(news)\n",
    "\n",
    "print(f\"Loaded {len(df_news)} news articles\")\n",
    "df_news.head()\n",
    "\n",
    "# --- Word Frequency Analysis (Tweets) ---\n",
    "all_words = \" \".join(df_tweets[\"cleaned_text\"].dropna())\n",
    "word_freq = Counter(all_words.split())\n",
    "\n",
    "top_words = pd.DataFrame(word_freq.most_common(20), columns=[\"Word\", \"Frequency\"])\n",
    "print(top_words)\n",
    "\n",
    "# --- Plot Word Frequencies ---\n",
    "plt.figure(figsize=(10, 5))\n",
    "plt.bar(top_words[\"Word\"], top_words[\"Frequency\"])\n",
    "plt.xticks(rotation=45)\n",
    "plt.title(\"Top 20 Words in Tweets\")\n",
    "plt.show()\n",
    "\n",
    "# --- Word Cloud for News ---\n",
    "all_words_news = \" \".join(df_news[\"cleaned_text\"].dropna())\n",
    "wordcloud = WordCloud(width=800, height=400, background_color=\"white\").generate(all_words_news)\n",
    "\n",
    "plt.figure(figsize=(12, 6))\n",
    "plt.imshow(wordcloud, interpolation=\"bilinear\")\n",
    "plt.axis(\"off\")\n",
    "plt.title(\"News Articles Word Cloud\", fontsize=16)\n",
    "plt.show()\n"
   ]
  }
 ],
 "metadata": {
  "language_info": {
   "name": "python"
  }
 },
 "nbformat": 4,
 "nbformat_minor": 5
}
